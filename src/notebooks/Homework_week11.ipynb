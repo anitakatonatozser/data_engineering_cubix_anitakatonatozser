{
 "cells": [
  {
   "cell_type": "code",
   "execution_count": null,
   "metadata": {},
   "outputs": [],
   "source": [
    "# Which 10 companies make the most money?\n",
    "\"\"\"\n",
    "SELECT \n",
    "    c.company,\n",
    "    ROUND(SUM(t.trip_total), 2) AS total_fare\n",
    "FROM \n",
    "    \"chicago_taxi_db\".\"taxi_trips\" t\n",
    "INNER JOIN \n",
    "    \"chicago_taxi_db\".\"company\" c\n",
    "    ON c.company_id = t.company_id\n",
    "GROUP BY \n",
    "    c.company\n",
    "ORDER BY \n",
    "    total_fare DESC\n",
    "LIMIT \n",
    "    10;\n",
    "\"\"\""
   ]
  },
  {
   "cell_type": "code",
   "execution_count": null,
   "metadata": {},
   "outputs": [],
   "source": [
    "# Show the 10 pickup community areas with the most rides.\n",
    "\"\"\"\n",
    "SELECT \n",
    "    c.community_name,\n",
    "    COUNT(t.trip_id) AS rides\n",
    "FROM \n",
    "    \"chicago_taxi_db\".\"taxi_trips\" t\n",
    "INNER JOIN \n",
    "    \"chicago_taxi_db\".\"community_areas\" c\n",
    "    ON c.\"area code\" = t.pickup_community_area_id\n",
    "GROUP BY \n",
    "    c.community_name\n",
    "ORDER BY \n",
    "    rides DESC\n",
    "LIMIT \n",
    "    10;\n",
    "\"\"\""
   ]
  },
  {
   "cell_type": "code",
   "execution_count": null,
   "metadata": {},
   "outputs": [],
   "source": [
    "# Get the count of taxi rides per day of week. In other words, we'd like to see which day has the most rides. \n",
    "\"\"\" \n",
    "SELECT \n",
    "    COUNT(t.trip_id) AS rides,\n",
    "    CASE \n",
    "        WHEN d.dayofweek = 1 THEN 'Monday'\n",
    "        WHEN d.dayofweek = 2 THEN 'Tuesday'\n",
    "        WHEN d.dayofweek = 3 THEN 'Wednesday'\n",
    "        WHEN d.dayofweek = 4 THEN 'Thursday'\n",
    "        WHEN d.dayofweek = 5 THEN 'Friday'\n",
    "        WHEN d.dayofweek = 6 THEN 'Saturday'\n",
    "        WHEN d.dayofweek = 7 THEN 'Sunday'\n",
    "    END AS daynames\n",
    "FROM \n",
    "    \"chicago_taxi_db\".\"date\" d\n",
    "INNER JOIN \n",
    "    \"chicago_taxi_db\".\"taxi_trips\" t\n",
    "    ON d.\"date\" = t.datetime_for_weather\n",
    "GROUP BY \n",
    "    d.dayofweek\n",
    "ORDER BY \n",
    "    MIN(d.dayofweek);\n",
    "\"\"\"\n"
   ]
  }
 ],
 "metadata": {
  "language_info": {
   "name": "python"
  }
 },
 "nbformat": 4,
 "nbformat_minor": 2
}
